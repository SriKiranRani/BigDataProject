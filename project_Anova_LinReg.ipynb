{
 "cells": [
  {
   "cell_type": "code",
   "execution_count": 1,
   "id": "d3580fad",
   "metadata": {},
   "outputs": [],
   "source": [
    "import pandas as pd\n",
    "from statsmodels.formula.api import ols\n",
    "from statsmodels.stats.anova import anova_lm\n",
    "from statsmodels.stats.multicomp import pairwise_tukeyhsd\n"
   ]
  },
  {
   "cell_type": "code",
   "execution_count": 2,
   "id": "f473d319",
   "metadata": {},
   "outputs": [
    {
     "name": "stdout",
     "output_type": "stream",
     "text": [
      "  driverid  Total_violations  Total_Miles_driven  Driver_Average_velocity  \\\n",
      "0       A1                 3              628507                  37.4500   \n",
      "1      A10                 6              675377                  31.7625   \n",
      "2     A100                 4              634338                  30.3625   \n",
      "3      A11                 5              652452                  33.8375   \n",
      "4      A12                 5              668241                  35.3000   \n",
      "\n",
      "          Model  Risk_Factor  \n",
      "0  Freightliner       4.7732  \n",
      "1     Peterbilt       8.8839  \n",
      "2     Peterbilt       6.3058  \n",
      "3     Peterbilt       7.6634  \n",
      "4   Caterpillar       7.4823  \n",
      "<class 'pandas.core.frame.DataFrame'>\n",
      "RangeIndex: 100 entries, 0 to 99\n",
      "Data columns (total 6 columns):\n",
      " #   Column                   Non-Null Count  Dtype  \n",
      "---  ------                   --------------  -----  \n",
      " 0   driverid                 100 non-null    object \n",
      " 1   Total_violations         100 non-null    int64  \n",
      " 2   Total_Miles_driven       100 non-null    int64  \n",
      " 3   Driver_Average_velocity  100 non-null    float64\n",
      " 4   Model                    100 non-null    object \n",
      " 5   Risk_Factor              100 non-null    float64\n",
      "dtypes: float64(2), int64(2), object(2)\n",
      "memory usage: 4.8+ KB\n"
     ]
    }
   ],
   "source": [
    "# Load the data using pandas\n",
    "data = pd.read_excel('C:/Users/ravip/Desktop/SEM2/bigD/project/ANOVA_Test_for_features.xlsx')\n",
    "data = pd.DataFrame(data)\n",
    "print(data.head())\n",
    "data.info()"
   ]
  },
  {
   "cell_type": "code",
   "execution_count": 3,
   "id": "07ee9583",
   "metadata": {},
   "outputs": [
    {
     "name": "stdout",
     "output_type": "stream",
     "text": [
      "                            OLS Regression Results                            \n",
      "==============================================================================\n",
      "Dep. Variable:            Risk_Factor   R-squared:                       0.997\n",
      "Model:                            OLS   Adj. R-squared:                  0.997\n",
      "Method:                 Least Squares   F-statistic:                 3.722e+04\n",
      "Date:                Wed, 27 Dec 2023   Prob (F-statistic):          2.82e-128\n",
      "Time:                        17:03:56   Log-Likelihood:                 30.720\n",
      "No. Observations:                 100   AIC:                            -57.44\n",
      "Df Residuals:                      98   BIC:                            -52.23\n",
      "Df Model:                           1                                         \n",
      "Covariance Type:            nonrobust                                         \n",
      "====================================================================================\n",
      "                       coef    std err          t      P>|t|      [0.025      0.975]\n",
      "------------------------------------------------------------------------------------\n",
      "Intercept           -0.0268      0.040     -0.663      0.509      -0.107       0.053\n",
      "Total_violations     1.5496      0.008    192.933      0.000       1.534       1.566\n",
      "==============================================================================\n",
      "Omnibus:                        9.642   Durbin-Watson:                   2.181\n",
      "Prob(Omnibus):                  0.008   Jarque-Bera (JB):               14.879\n",
      "Skew:                          -0.398   Prob(JB):                     0.000588\n",
      "Kurtosis:                       4.714   Cond. No.                         11.7\n",
      "==============================================================================\n",
      "\n",
      "Notes:\n",
      "[1] Standard Errors assume that the covariance matrix of the errors is correctly specified.\n"
     ]
    }
   ],
   "source": [
    "# Example ANOVA for Total Violations\n",
    "model_total_violations = ols('Risk_Factor ~ Total_violations', data=data).fit()\n",
    "print(model_total_violations.summary())\n"
   ]
  },
  {
   "cell_type": "code",
   "execution_count": 4,
   "id": "55fcaf34",
   "metadata": {},
   "outputs": [
    {
     "name": "stdout",
     "output_type": "stream",
     "text": [
      "                            OLS Regression Results                            \n",
      "==============================================================================\n",
      "Dep. Variable:            Risk_Factor   R-squared:                       0.006\n",
      "Model:                            OLS   Adj. R-squared:                 -0.004\n",
      "Method:                 Least Squares   F-statistic:                    0.6214\n",
      "Date:                Wed, 27 Dec 2023   Prob (F-statistic):              0.432\n",
      "Time:                        17:03:56   Log-Likelihood:                -266.08\n",
      "No. Observations:                 100   AIC:                             536.2\n",
      "Df Residuals:                      98   BIC:                             541.4\n",
      "Df Model:                           1                                         \n",
      "Covariance Type:            nonrobust                                         \n",
      "======================================================================================\n",
      "                         coef    std err          t      P>|t|      [0.025      0.975]\n",
      "--------------------------------------------------------------------------------------\n",
      "Intercept             19.4641     15.864      1.227      0.223     -12.017      50.945\n",
      "Total_Miles_driven -1.928e-05   2.45e-05     -0.788      0.432   -6.78e-05    2.93e-05\n",
      "==============================================================================\n",
      "Omnibus:                       19.386   Durbin-Watson:                   1.921\n",
      "Prob(Omnibus):                  0.000   Jarque-Bera (JB):               32.418\n",
      "Skew:                           0.820   Prob(JB):                     9.13e-08\n",
      "Kurtosis:                       5.257   Cond. No.                     2.94e+07\n",
      "==============================================================================\n",
      "\n",
      "Notes:\n",
      "[1] Standard Errors assume that the covariance matrix of the errors is correctly specified.\n",
      "[2] The condition number is large, 2.94e+07. This might indicate that there are\n",
      "strong multicollinearity or other numerical problems.\n"
     ]
    }
   ],
   "source": [
    "\n",
    "# Example for Total Miles Driven\n",
    "model_total_miles = ols('Risk_Factor ~ Total_Miles_driven', data=data).fit()\n",
    "print(model_total_miles.summary())\n"
   ]
  },
  {
   "cell_type": "code",
   "execution_count": 5,
   "id": "08595ec2",
   "metadata": {},
   "outputs": [
    {
     "name": "stdout",
     "output_type": "stream",
     "text": [
      "                            OLS Regression Results                            \n",
      "==============================================================================\n",
      "Dep. Variable:            Risk_Factor   R-squared:                       0.003\n",
      "Model:                            OLS   Adj. R-squared:                 -0.007\n",
      "Method:                 Least Squares   F-statistic:                    0.3424\n",
      "Date:                Wed, 27 Dec 2023   Prob (F-statistic):              0.560\n",
      "Time:                        17:03:56   Log-Likelihood:                -266.22\n",
      "No. Observations:                 100   AIC:                             536.4\n",
      "Df Residuals:                      98   BIC:                             541.7\n",
      "Df Model:                           1                                         \n",
      "Covariance Type:            nonrobust                                         \n",
      "===========================================================================================\n",
      "                              coef    std err          t      P>|t|      [0.025      0.975]\n",
      "-------------------------------------------------------------------------------------------\n",
      "Intercept                   4.0416      5.003      0.808      0.421      -5.887      13.971\n",
      "Driver_Average_velocity     0.0833      0.142      0.585      0.560      -0.199       0.366\n",
      "==============================================================================\n",
      "Omnibus:                       20.086   Durbin-Watson:                   1.908\n",
      "Prob(Omnibus):                  0.000   Jarque-Bera (JB):               34.813\n",
      "Skew:                           0.832   Prob(JB):                     2.76e-08\n",
      "Kurtosis:                       5.363   Cond. No.                         502.\n",
      "==============================================================================\n",
      "\n",
      "Notes:\n",
      "[1] Standard Errors assume that the covariance matrix of the errors is correctly specified.\n"
     ]
    }
   ],
   "source": [
    "\n",
    "# Example for Average Velocity\n",
    "model_avg_velocity = ols('Risk_Factor ~ Driver_Average_velocity', data=data).fit()\n",
    "print(model_avg_velocity.summary())\n"
   ]
  },
  {
   "cell_type": "code",
   "execution_count": 6,
   "id": "c62b7aa9",
   "metadata": {},
   "outputs": [
    {
     "name": "stdout",
     "output_type": "stream",
     "text": [
      "       Multiple Comparison of Means - Tukey HSD, FWER=0.05       \n",
      "=================================================================\n",
      "   group1       group2    meandiff p-adj   lower    upper  reject\n",
      "-----------------------------------------------------------------\n",
      " Caterpillar        Crane   2.0061 0.9995  -6.6646 10.6769  False\n",
      " Caterpillar         Ford   0.2362    1.0  -3.4407   3.913  False\n",
      " Caterpillar Freightliner   1.0938 0.9999  -4.7227  6.9103  False\n",
      " Caterpillar         Hino   0.2964    1.0  -5.1108  5.7035  False\n",
      " Caterpillar     Kenworth   -0.792    1.0  -6.6084  5.0245  False\n",
      " Caterpillar     Navistar  -0.6592    1.0  -5.5063  4.1879  False\n",
      " Caterpillar      Oshkosh   3.4584 0.7824   -2.923  9.8399  False\n",
      " Caterpillar    Peterbilt   1.1592 0.9955  -2.6982  5.0166  False\n",
      " Caterpillar        Volvo  -0.4054    1.0   -4.883  4.0721  False\n",
      " Caterpillar Western Star  -0.4165    1.0  -7.6421  6.8091  False\n",
      "       Crane         Ford    -1.77 0.9998 -10.4976  6.9576  False\n",
      "       Crane Freightliner  -0.9123    1.0 -10.7349  8.9102  False\n",
      "       Crane         Hino  -1.7098    1.0 -11.2956   7.876  False\n",
      "       Crane     Kenworth  -2.7981 0.9971 -12.6207  7.0244  False\n",
      "       Crane     Navistar  -2.6653 0.9969 -11.9468  6.6161  False\n",
      "       Crane      Oshkosh   1.4523    1.0   -8.715 11.6196  False\n",
      "       Crane    Peterbilt   -0.847    1.0  -9.6521  7.9582  False\n",
      "       Crane        Volvo  -2.4116 0.9984 -11.5055  6.6823  False\n",
      "       Crane Western Star  -2.4226 0.9996 -13.1399  8.2946  False\n",
      "        Ford Freightliner   0.8576    1.0  -5.0433  6.7586  False\n",
      "        Ford         Hino   0.0602    1.0  -5.4376  5.5581  False\n",
      "        Ford     Kenworth  -1.0281    1.0   -6.929  4.8728  False\n",
      "        Ford     Navistar  -0.8953 0.9999  -5.8434  4.0527  False\n",
      "        Ford      Oshkosh   3.2223 0.8567  -3.2362  9.6808  False\n",
      "        Ford    Peterbilt    0.923 0.9995  -3.0605  4.9066  False\n",
      "        Ford        Volvo  -0.6416    1.0  -5.2283  3.9451  False\n",
      "        Ford Western Star  -0.6527    1.0  -7.9464  6.6411  False\n",
      "Freightliner         Hino  -0.7974    1.0  -7.9065  6.3116  False\n",
      "Freightliner     Kenworth  -1.8858 0.9989  -9.3109  5.5394  False\n",
      "Freightliner     Navistar   -1.753 0.9986  -8.4459    4.94  False\n",
      "Freightliner      Oshkosh   2.3646 0.9956  -5.5109 10.2402  False\n",
      "Freightliner    Peterbilt   0.0654    1.0  -5.9497  6.0804  False\n",
      "Freightliner        Volvo  -1.4992 0.9995  -7.9296  4.9311  False\n",
      "Freightliner Western Star  -1.5103    1.0 -10.0841  7.0635  False\n",
      "        Hino     Kenworth  -1.0883    1.0  -8.1974  6.0207  False\n",
      "        Hino     Navistar  -0.9556    1.0   -7.296  5.3849  False\n",
      "        Hino      Oshkosh   3.1621 0.9505  -4.4162 10.7403  False\n",
      "        Hino    Peterbilt   0.8628    1.0  -4.7574   6.483  False\n",
      "        Hino        Volvo  -0.7018    1.0  -6.7644  5.3608  False\n",
      "        Hino Western Star  -0.7129    1.0  -9.0144  7.5887  False\n",
      "    Kenworth     Navistar   0.1328    1.0  -6.5602  6.8257  False\n",
      "    Kenworth      Oshkosh   4.2504 0.7867  -3.6252 12.1259  False\n",
      "    Kenworth    Peterbilt   1.9511 0.9918  -4.0639  7.9662  False\n",
      "    Kenworth        Volvo   0.3865    1.0  -6.0438  6.8169  False\n",
      "    Kenworth Western Star   0.3755    1.0  -8.1984  8.9493  False\n",
      "    Navistar      Oshkosh   4.1176 0.7205  -3.0718  11.307  False\n",
      "    Navistar    Peterbilt   1.8184 0.9829  -3.2653   6.902  False\n",
      "    Navistar        Volvo   0.2538    1.0  -5.3151  5.8226  False\n",
      "    Navistar Western Star   0.2427    1.0  -7.7055  8.1908  False\n",
      "     Oshkosh    Peterbilt  -2.2992 0.9854  -8.8622  4.2637  False\n",
      "     Oshkosh        Volvo  -3.8639 0.7543 -10.8094  3.0817  False\n",
      "     Oshkosh Western Star  -3.8749  0.938 -12.8416  5.0918  False\n",
      "   Peterbilt        Volvo  -1.5646 0.9905  -6.2972   3.168  False\n",
      "   Peterbilt Western Star  -1.5757 0.9998  -8.9621  5.8107  False\n",
      "       Volvo Western Star  -0.0111    1.0  -7.7394  7.7173  False\n",
      "-----------------------------------------------------------------\n",
      "                            OLS Regression Results                            \n",
      "==============================================================================\n",
      "Dep. Variable:            Risk_Factor   R-squared:                       0.068\n",
      "Model:                            OLS   Adj. R-squared:                 -0.036\n",
      "Method:                 Least Squares   F-statistic:                    0.6530\n",
      "Date:                Wed, 27 Dec 2023   Prob (F-statistic):              0.764\n",
      "Time:                        17:03:58   Log-Likelihood:                -262.86\n",
      "No. Observations:                 100   AIC:                             547.7\n",
      "Df Residuals:                      89   BIC:                             576.4\n",
      "Df Model:                          10                                         \n",
      "Covariance Type:            nonrobust                                         \n",
      "=========================================================================================\n",
      "                            coef    std err          t      P>|t|      [0.025      0.975]\n",
      "-----------------------------------------------------------------------------------------\n",
      "Intercept                 6.6261      0.758      8.746      0.000       5.121       8.131\n",
      "Model[T.Crane]            2.0062      2.624      0.764      0.447      -3.208       7.221\n",
      "Model[T.Ford]             0.2362      1.113      0.212      0.832      -1.975       2.447\n",
      "Model[T.Freightliner]     1.0938      1.760      0.621      0.536      -2.404       4.592\n",
      "Model[T.Hino]             0.2964      1.637      0.181      0.857      -2.955       3.548\n",
      "Model[T.Kenworth]        -0.7920      1.760     -0.450      0.654      -4.290       2.706\n",
      "Model[T.Navistar]        -0.6592      1.467     -0.449      0.654      -3.574       2.256\n",
      "Model[T.Oshkosh]          3.4584      1.931      1.791      0.077      -0.379       7.296\n",
      "Model[T.Peterbilt]        1.1592      1.168      0.993      0.323      -1.161       3.479\n",
      "Model[T.Volvo]           -0.4054      1.355     -0.299      0.766      -3.098       2.287\n",
      "Model[T.Western Star]    -0.4165      2.187     -0.190      0.849      -4.762       3.929\n",
      "==============================================================================\n",
      "Omnibus:                       24.208   Durbin-Watson:                   1.957\n",
      "Prob(Omnibus):                  0.000   Jarque-Bera (JB):               54.617\n",
      "Skew:                           0.879   Prob(JB):                     1.38e-12\n",
      "Kurtosis:                       6.165   Cond. No.                         8.95\n",
      "==============================================================================\n",
      "\n",
      "Notes:\n",
      "[1] Standard Errors assume that the covariance matrix of the errors is correctly specified.\n"
     ]
    }
   ],
   "source": [
    "\n",
    "# Perform post-hoc tests if needed (Tukey's HSD is a common choice)\n",
    "# Example for Total Violations\n",
    "tukey_total_violations = pairwise_tukeyhsd(data['Risk_Factor'], data['Model'])\n",
    "print(tukey_total_violations.summary())\n",
    "\n",
    "# Example for Model\n",
    "model_anova = ols('Risk_Factor ~ Model', data=data).fit()\n",
    "print(model_anova.summary())\n"
   ]
  },
  {
   "cell_type": "code",
   "execution_count": 7,
   "id": "19373150",
   "metadata": {},
   "outputs": [
    {
     "name": "stdout",
     "output_type": "stream",
     "text": [
      "<class 'pandas.core.frame.DataFrame'>\n",
      "RangeIndex: 100 entries, 0 to 99\n",
      "Data columns (total 6 columns):\n",
      " #   Column                   Non-Null Count  Dtype  \n",
      "---  ------                   --------------  -----  \n",
      " 0   driverid                 100 non-null    object \n",
      " 1   Total_violations         100 non-null    int64  \n",
      " 2   Total_Miles_driven       100 non-null    int64  \n",
      " 3   Driver_Average_velocity  100 non-null    float64\n",
      " 4   Model                    100 non-null    object \n",
      " 5   Risk_Factor              100 non-null    float64\n",
      "dtypes: float64(2), int64(2), object(2)\n",
      "memory usage: 4.8+ KB\n"
     ]
    }
   ],
   "source": [
    "data.info()"
   ]
  },
  {
   "cell_type": "code",
   "execution_count": 8,
   "id": "b7b457ab",
   "metadata": {},
   "outputs": [
    {
     "data": {
      "text/html": [
       "<div>\n",
       "<style scoped>\n",
       "    .dataframe tbody tr th:only-of-type {\n",
       "        vertical-align: middle;\n",
       "    }\n",
       "\n",
       "    .dataframe tbody tr th {\n",
       "        vertical-align: top;\n",
       "    }\n",
       "\n",
       "    .dataframe thead th {\n",
       "        text-align: right;\n",
       "    }\n",
       "</style>\n",
       "<table border=\"1\" class=\"dataframe\">\n",
       "  <thead>\n",
       "    <tr style=\"text-align: right;\">\n",
       "      <th></th>\n",
       "      <th>driverid</th>\n",
       "      <th>Total_violations</th>\n",
       "      <th>Total_Miles_driven</th>\n",
       "      <th>Driver_Average_velocity</th>\n",
       "      <th>Model</th>\n",
       "      <th>Risk_Factor</th>\n",
       "    </tr>\n",
       "  </thead>\n",
       "  <tbody>\n",
       "    <tr>\n",
       "      <th>0</th>\n",
       "      <td>A1</td>\n",
       "      <td>3</td>\n",
       "      <td>628507</td>\n",
       "      <td>37.4500</td>\n",
       "      <td>Freightliner</td>\n",
       "      <td>4.7732</td>\n",
       "    </tr>\n",
       "    <tr>\n",
       "      <th>1</th>\n",
       "      <td>A10</td>\n",
       "      <td>6</td>\n",
       "      <td>675377</td>\n",
       "      <td>31.7625</td>\n",
       "      <td>Peterbilt</td>\n",
       "      <td>8.8839</td>\n",
       "    </tr>\n",
       "    <tr>\n",
       "      <th>2</th>\n",
       "      <td>A100</td>\n",
       "      <td>4</td>\n",
       "      <td>634338</td>\n",
       "      <td>30.3625</td>\n",
       "      <td>Peterbilt</td>\n",
       "      <td>6.3058</td>\n",
       "    </tr>\n",
       "    <tr>\n",
       "      <th>3</th>\n",
       "      <td>A11</td>\n",
       "      <td>5</td>\n",
       "      <td>652452</td>\n",
       "      <td>33.8375</td>\n",
       "      <td>Peterbilt</td>\n",
       "      <td>7.6634</td>\n",
       "    </tr>\n",
       "    <tr>\n",
       "      <th>4</th>\n",
       "      <td>A12</td>\n",
       "      <td>5</td>\n",
       "      <td>668241</td>\n",
       "      <td>35.3000</td>\n",
       "      <td>Caterpillar</td>\n",
       "      <td>7.4823</td>\n",
       "    </tr>\n",
       "  </tbody>\n",
       "</table>\n",
       "</div>"
      ],
      "text/plain": [
       "  driverid  Total_violations  Total_Miles_driven  Driver_Average_velocity  \\\n",
       "0       A1                 3              628507                  37.4500   \n",
       "1      A10                 6              675377                  31.7625   \n",
       "2     A100                 4              634338                  30.3625   \n",
       "3      A11                 5              652452                  33.8375   \n",
       "4      A12                 5              668241                  35.3000   \n",
       "\n",
       "          Model  Risk_Factor  \n",
       "0  Freightliner       4.7732  \n",
       "1     Peterbilt       8.8839  \n",
       "2     Peterbilt       6.3058  \n",
       "3     Peterbilt       7.6634  \n",
       "4   Caterpillar       7.4823  "
      ]
     },
     "execution_count": 8,
     "metadata": {},
     "output_type": "execute_result"
    }
   ],
   "source": [
    "data.head()"
   ]
  },
  {
   "cell_type": "code",
   "execution_count": 9,
   "id": "b397ca6e",
   "metadata": {},
   "outputs": [
    {
     "name": "stdout",
     "output_type": "stream",
     "text": [
      "  driverid  Total_violations  Total_Miles_driven  Driver_Average_velocity  \\\n",
      "0       A1                 3              628507                  37.4500   \n",
      "1      A10                 6              675377                  31.7625   \n",
      "2     A100                 4              634338                  30.3625   \n",
      "3      A11                 5              652452                  33.8375   \n",
      "4      A12                 5              668241                  35.3000   \n",
      "\n",
      "   Risk_Factor  Model_Crane  Model_Ford  Model_Freightliner  Model_Hino  \\\n",
      "0       4.7732            0           0                   1           0   \n",
      "1       8.8839            0           0                   0           0   \n",
      "2       6.3058            0           0                   0           0   \n",
      "3       7.6634            0           0                   0           0   \n",
      "4       7.4823            0           0                   0           0   \n",
      "\n",
      "   Model_Kenworth  Model_Navistar  Model_Oshkosh  Model_Peterbilt  \\\n",
      "0               0               0              0                0   \n",
      "1               0               0              0                1   \n",
      "2               0               0              0                1   \n",
      "3               0               0              0                1   \n",
      "4               0               0              0                0   \n",
      "\n",
      "   Model_Volvo  Model_Western Star  \n",
      "0            0                   0  \n",
      "1            0                   0  \n",
      "2            0                   0  \n",
      "3            0                   0  \n",
      "4            0                   0  \n"
     ]
    }
   ],
   "source": [
    "# Perform one-hot encoding\n",
    "df_encoded = pd.DataFrame(pd.get_dummies(data, columns=['Model'], drop_first=True))\n",
    "\n",
    "# Display the updated DataFrame\n",
    "print(df_encoded.head())"
   ]
  },
  {
   "cell_type": "code",
   "execution_count": null,
   "id": "e802d5ea",
   "metadata": {},
   "outputs": [],
   "source": [
    "import statsmodels.api as sm"
   ]
  },
  {
   "cell_type": "code",
   "execution_count": null,
   "id": "aad80ce8",
   "metadata": {},
   "outputs": [],
   "source": [
    "X = df_encoded.drop(['Risk_Factor', 'driverid'],axis=1)  # Include other features as needed\n",
    "X = sm.add_constant(X)  # Add a constant term to the model\n",
    "\n",
    "\n",
    "y = df_encoded['Risk_Factor'] # Target variable\n",
    "\n",
    "# Fit the linear regression model\n",
    "model = sm.OLS(y, X).fit()\n",
    "\n",
    "# Print the regression results\n",
    "print(model.summary())"
   ]
  },
  {
   "cell_type": "code",
   "execution_count": null,
   "id": "c308cf2d",
   "metadata": {},
   "outputs": [],
   "source": [
    "df_encoded"
   ]
  }
 ],
 "metadata": {
  "kernelspec": {
   "display_name": "Python 3 (ipykernel)",
   "language": "python",
   "name": "python3"
  },
  "language_info": {
   "codemirror_mode": {
    "name": "ipython",
    "version": 3
   },
   "file_extension": ".py",
   "mimetype": "text/x-python",
   "name": "python",
   "nbconvert_exporter": "python",
   "pygments_lexer": "ipython3",
   "version": "3.9.12"
  }
 },
 "nbformat": 4,
 "nbformat_minor": 5
}
